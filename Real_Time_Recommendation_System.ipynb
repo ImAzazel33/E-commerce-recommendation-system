{
  "nbformat": 4,
  "nbformat_minor": 0,
  "metadata": {
    "colab": {
      "provenance": [],
      "authorship_tag": "ABX9TyNX2GZJYiSM5EXKYrXBacI9",
      "include_colab_link": true
    },
    "kernelspec": {
      "name": "python3",
      "display_name": "Python 3"
    },
    "language_info": {
      "name": "python"
    }
  },
  "cells": [
    {
      "cell_type": "markdown",
      "metadata": {
        "id": "view-in-github",
        "colab_type": "text"
      },
      "source": [
        "<a href=\"https://colab.research.google.com/github/ImAzazel33/E-commerce-recommendation-system/blob/main/Real_Time_Recommendation_System.ipynb\" target=\"_parent\"><img src=\"https://colab.research.google.com/assets/colab-badge.svg\" alt=\"Open In Colab\"/></a>"
      ]
    },
    {
      "cell_type": "code",
      "execution_count": 30,
      "metadata": {
        "colab": {
          "base_uri": "https://localhost:8080/"
        },
        "id": "41tNchI76bwK",
        "outputId": "4c98d5bc-db8e-4454-d5d1-4c2f2d52797e"
      },
      "outputs": [
        {
          "output_type": "stream",
          "name": "stdout",
          "text": [
            "Requirement already satisfied: scikit-learn in /usr/local/lib/python3.11/dist-packages (1.6.1)\n",
            "Requirement already satisfied: pandas in /usr/local/lib/python3.11/dist-packages (2.2.2)\n",
            "Requirement already satisfied: numpy in /usr/local/lib/python3.11/dist-packages (1.26.4)\n",
            "Requirement already satisfied: scipy>=1.6.0 in /usr/local/lib/python3.11/dist-packages (from scikit-learn) (1.13.1)\n",
            "Requirement already satisfied: joblib>=1.2.0 in /usr/local/lib/python3.11/dist-packages (from scikit-learn) (1.4.2)\n",
            "Requirement already satisfied: threadpoolctl>=3.1.0 in /usr/local/lib/python3.11/dist-packages (from scikit-learn) (3.5.0)\n",
            "Requirement already satisfied: python-dateutil>=2.8.2 in /usr/local/lib/python3.11/dist-packages (from pandas) (2.8.2)\n",
            "Requirement already satisfied: pytz>=2020.1 in /usr/local/lib/python3.11/dist-packages (from pandas) (2024.2)\n",
            "Requirement already satisfied: tzdata>=2022.7 in /usr/local/lib/python3.11/dist-packages (from pandas) (2025.1)\n",
            "Requirement already satisfied: six>=1.5 in /usr/local/lib/python3.11/dist-packages (from python-dateutil>=2.8.2->pandas) (1.17.0)\n"
          ]
        }
      ],
      "source": [
        "!pip install scikit-learn pandas numpy"
      ]
    },
    {
      "cell_type": "code",
      "source": [
        "import pandas as pd\n",
        "import numpy as np\n",
        "from sklearn.metrics.pairwise import cosine_similarity\n",
        "from sklearn.feature_extraction.text import TfidfVectorizer"
      ],
      "metadata": {
        "id": "me67x1A16j2N"
      },
      "execution_count": 31,
      "outputs": []
    },
    {
      "cell_type": "code",
      "source": [
        "dataset_path = '/root/.cache/kagglehub/datasets/thedevastator/unlock-profits-with-e-commerce-sales-data/versions/2'\n",
        "filename = 'Sale Report.csv'\n",
        "df = pd.read_csv(os.path.join(dataset_path, filename))\n",
        "\n",
        "print(\"Dataset Overview:\")\n",
        "print(df.head())"
      ],
      "metadata": {
        "colab": {
          "base_uri": "https://localhost:8080/"
        },
        "id": "xRWurYxO1sXk",
        "outputId": "59a61bbe-c634-4d2a-ba1a-a42b48bd895e"
      },
      "execution_count": 32,
      "outputs": [
        {
          "output_type": "stream",
          "name": "stdout",
          "text": [
            "Dataset Overview:\n",
            "   index       SKU Code Design No.  Stock       Category Size Color\n",
            "0      0    AN201-RED-L      AN201    5.0  AN : LEGGINGS    L   Red\n",
            "1      1    AN201-RED-M      AN201    5.0  AN : LEGGINGS    M   Red\n",
            "2      2    AN201-RED-S      AN201    3.0  AN : LEGGINGS    S   Red\n",
            "3      3   AN201-RED-XL      AN201    6.0  AN : LEGGINGS   XL   Red\n",
            "4      4  AN201-RED-XXL      AN201    3.0  AN : LEGGINGS  XXL   Red\n"
          ]
        }
      ]
    },
    {
      "cell_type": "code",
      "source": [
        "print(\"\\nMissing Values:\")\n",
        "print(df.isnull().sum())\n",
        "\n",
        "df = df.drop_duplicates()\n",
        "\n",
        "df['product_features'] = df['Category'] + \" \" + df['Size'] + \" \" + df['Color']"
      ],
      "metadata": {
        "colab": {
          "base_uri": "https://localhost:8080/"
        },
        "id": "2b7W5wAR-N9Q",
        "outputId": "aa17227e-16bf-4f1e-c949-67e1c70f81ce"
      },
      "execution_count": 33,
      "outputs": [
        {
          "output_type": "stream",
          "name": "stdout",
          "text": [
            "\n",
            "Missing Values:\n",
            "index          0\n",
            "SKU Code      83\n",
            "Design No.    36\n",
            "Stock         36\n",
            "Category      45\n",
            "Size          36\n",
            "Color         45\n",
            "dtype: int64\n"
          ]
        }
      ]
    },
    {
      "cell_type": "code",
      "source": [
        "df['product_features'] = df['product_features'].astype(str)\n",
        "\n",
        "tfidf = TfidfVectorizer(stop_words='english')\n",
        "tfidf_matrix = tfidf.fit_transform(df['product_features'])\n",
        "\n",
        "cosine_sim = cosine_similarity(tfidf_matrix, tfidf_matrix)\n",
        "\n",
        "sku_to_index = pd.Series(df.index, index=df['SKU Code']).drop_duplicates()"
      ],
      "metadata": {
        "id": "cAL4UeDs67_s"
      },
      "execution_count": 34,
      "outputs": []
    },
    {
      "cell_type": "code",
      "source": [
        "def get_content_based_recommendations(sku_code, n=5):\n",
        "    idx = sku_to_index[sku_code]\n",
        "    sim_scores = list(enumerate(cosine_sim[idx]))\n",
        "    sim_scores = sorted(sim_scores, key=lambda x: x[1], reverse=True)\n",
        "    sim_scores = sim_scores[1:n+1]\n",
        "    product_indices = [i[0] for i in sim_scores]\n",
        "    return df.iloc[product_indices]"
      ],
      "metadata": {
        "id": "48rNTmhr94-k"
      },
      "execution_count": 35,
      "outputs": []
    },
    {
      "cell_type": "code",
      "source": [
        "sku_code = \"AN201-RED-L\"\n",
        "recommendations = get_content_based_recommendations(sku_code, n=5)\n",
        "\n",
        "print(f\"\\nTop 5 Recommendations for SKU {sku_code}:\")\n",
        "print(recommendations[['SKU Code', 'Category', 'Size', 'Color']])"
      ],
      "metadata": {
        "colab": {
          "base_uri": "https://localhost:8080/"
        },
        "id": "5-IGuWMm-1Qp",
        "outputId": "7e420954-59a3-4e12-bebf-c55e1524c0bd"
      },
      "execution_count": 36,
      "outputs": [
        {
          "output_type": "stream",
          "name": "stdout",
          "text": [
            "\n",
            "Top 5 Recommendations for SKU AN201-RED-L:\n",
            "        SKU Code       Category Size Color\n",
            "1    AN201-RED-M  AN : LEGGINGS    M   Red\n",
            "2    AN201-RED-S  AN : LEGGINGS    S   Red\n",
            "536  CH201-RED-L  AN : LEGGINGS    L   Red\n",
            "537  CH201-RED-M  AN : LEGGINGS    M   Red\n",
            "538  CH201-RED-S  AN : LEGGINGS    S   Red\n"
          ]
        }
      ]
    },
    {
      "cell_type": "code",
      "source": [],
      "metadata": {
        "id": "SSsZCrrK4xpo"
      },
      "execution_count": null,
      "outputs": []
    }
  ]
}