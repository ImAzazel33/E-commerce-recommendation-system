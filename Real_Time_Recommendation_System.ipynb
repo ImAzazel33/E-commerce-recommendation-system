{
  "nbformat": 4,
  "nbformat_minor": 0,
  "metadata": {
    "colab": {
      "provenance": [],
      "authorship_tag": "ABX9TyPn3/fGg0TYPrbzwE/ngykd",
      "include_colab_link": true
    },
    "kernelspec": {
      "name": "python3",
      "display_name": "Python 3"
    },
    "language_info": {
      "name": "python"
    }
  },
  "cells": [
    {
      "cell_type": "markdown",
      "metadata": {
        "id": "view-in-github",
        "colab_type": "text"
      },
      "source": [
        "<a href=\"https://colab.research.google.com/github/ImAzazel33/E-commerce-recommendation-system/blob/main/Real_Time_Recommendation_System.ipynb\" target=\"_parent\"><img src=\"https://colab.research.google.com/assets/colab-badge.svg\" alt=\"Open In Colab\"/></a>"
      ]
    },
    {
      "cell_type": "code",
      "execution_count": 5,
      "metadata": {
        "colab": {
          "base_uri": "https://localhost:8080/"
        },
        "id": "41tNchI76bwK",
        "outputId": "6ba982bc-46b9-41e4-a2ac-128d5cd3aa4e"
      },
      "outputs": [
        {
          "output_type": "stream",
          "name": "stdout",
          "text": [
            "Requirement already satisfied: kagglehub in /usr/local/lib/python3.11/dist-packages (0.3.6)\n",
            "Requirement already satisfied: packaging in /usr/local/lib/python3.11/dist-packages (from kagglehub) (24.2)\n",
            "Requirement already satisfied: requests in /usr/local/lib/python3.11/dist-packages (from kagglehub) (2.32.3)\n",
            "Requirement already satisfied: tqdm in /usr/local/lib/python3.11/dist-packages (from kagglehub) (4.67.1)\n",
            "Requirement already satisfied: charset-normalizer<4,>=2 in /usr/local/lib/python3.11/dist-packages (from requests->kagglehub) (3.4.1)\n",
            "Requirement already satisfied: idna<4,>=2.5 in /usr/local/lib/python3.11/dist-packages (from requests->kagglehub) (3.10)\n",
            "Requirement already satisfied: urllib3<3,>=1.21.1 in /usr/local/lib/python3.11/dist-packages (from requests->kagglehub) (2.3.0)\n",
            "Requirement already satisfied: certifi>=2017.4.17 in /usr/local/lib/python3.11/dist-packages (from requests->kagglehub) (2024.12.14)\n"
          ]
        }
      ],
      "source": [
        "# Install kagglehub if not already installed\n",
        "!pip install kagglehub"
      ]
    },
    {
      "cell_type": "code",
      "source": [
        "# Import necessary libraries\n",
        "import pandas as pd\n",
        "import os\n",
        "import random\n",
        "# Install necessary libraries\n",
        "!pip install -q pandas numpy"
      ],
      "metadata": {
        "id": "me67x1A16j2N"
      },
      "execution_count": 29,
      "outputs": []
    },
    {
      "cell_type": "code",
      "source": [
        "# Load the dataset\n",
        "dataset_path = '/root/.cache/kagglehub/datasets/thedevastator/unlock-profits-with-e-commerce-sales-data/versions/2'\n",
        "filename = 'Sale Report.csv'  # Adjust this based on your needs\n",
        "df = pd.read_csv(os.path.join(dataset_path, filename))  # Use os.path.join for compatibility\n",
        "\n",
        "# Display the first few rows of the dataset\n",
        "print(\"Dataset Overview:\")\n",
        "print(df.head())"
      ],
      "metadata": {
        "colab": {
          "base_uri": "https://localhost:8080/"
        },
        "id": "WiaK5d_064th",
        "outputId": "3bf6f1ed-0ceb-44a5-fc0b-9fd2b92f41c4"
      },
      "execution_count": 30,
      "outputs": [
        {
          "output_type": "stream",
          "name": "stdout",
          "text": [
            "Dataset Overview:\n",
            "   index       SKU Code Design No.  Stock       Category Size Color\n",
            "0      0    AN201-RED-L      AN201    5.0  AN : LEGGINGS    L   Red\n",
            "1      1    AN201-RED-M      AN201    5.0  AN : LEGGINGS    M   Red\n",
            "2      2    AN201-RED-S      AN201    3.0  AN : LEGGINGS    S   Red\n",
            "3      3   AN201-RED-XL      AN201    6.0  AN : LEGGINGS   XL   Red\n",
            "4      4  AN201-RED-XXL      AN201    3.0  AN : LEGGINGS  XXL   Red\n"
          ]
        }
      ]
    },
    {
      "cell_type": "code",
      "source": [
        "# Function to recommend products based on user history\n",
        "def recommend_products(user_history, num_recommendations=5):\n",
        "    # Get the categories of the products in user history\n",
        "    user_categories = df[df['SKU Code'].isin(user_history)]['Category'].unique()\n",
        "\n",
        "    # Recommend products from the same categories\n",
        "    recommendations = df[df['Category'].isin(user_categories)].sample(n=num_recommendations)\n",
        "    return recommendations"
      ],
      "metadata": {
        "id": "2b7W5wAR-N9Q"
      },
      "execution_count": 32,
      "outputs": []
    },
    {
      "cell_type": "code",
      "source": [
        "# Simulate user history\n",
        "user_history = simulate_user_history()\n",
        "print(\"User  Browsing History:\")\n",
        "print(user_history)"
      ],
      "metadata": {
        "colab": {
          "base_uri": "https://localhost:8080/"
        },
        "id": "cAL4UeDs67_s",
        "outputId": "0f4d7954-54b7-4e3e-af15-836b1d11bdb0"
      },
      "execution_count": 33,
      "outputs": [
        {
          "output_type": "stream",
          "name": "stdout",
          "text": [
            "User  Browsing History:\n",
            "['SET339-KR-NP-XXXL', 'J0278-SET-M', 'J0209-DR-XXL', 'SET440-KR-PP-XL', 'J0085-TP-XL']\n"
          ]
        }
      ]
    },
    {
      "cell_type": "code",
      "source": [
        "# Specify the number of recommendations\n",
        "num_recommendations = 3  # You can change this value as needed"
      ],
      "metadata": {
        "id": "48rNTmhr94-k"
      },
      "execution_count": 34,
      "outputs": []
    },
    {
      "cell_type": "code",
      "source": [
        "# Display recommended products\n",
        "print(\"Recommended Products:\")\n",
        "for index, row in recommended_products.iterrows():\n",
        "    print(f\"SKU Code: {row['SKU Code']}\")\n",
        "    print(f\"Design No.: {row['Design No.']}\")\n",
        "    print(f\"Stock: {row['Stock']}\")\n",
        "    print(f\"Category: {row['Category']}\")\n",
        "    print(f\"Size: {row['Size']}\")\n",
        "    print(f\"Color: {row['Color']}\")\n",
        "    print(\"---\")"
      ],
      "metadata": {
        "colab": {
          "base_uri": "https://localhost:8080/"
        },
        "id": "5-IGuWMm-1Qp",
        "outputId": "bd2c1307-5748-4a67-f193-09a83d32d6a1"
      },
      "execution_count": 36,
      "outputs": [
        {
          "output_type": "stream",
          "name": "stdout",
          "text": [
            "Recommended Products:\n",
            "SKU Code: SET152-KR-NP-XL\n",
            "Design No.: SET152\n",
            "Stock: 0.0\n",
            "Category: SET\n",
            "Size: XL\n",
            "Color: Orange\n",
            "---\n",
            "SKU Code: J0041-SET-M\n",
            "Design No.: J0041\n",
            "Stock: 2.0\n",
            "Category: KURTA SET\n",
            "Size: M\n",
            "Color: Light Green\n",
            "---\n",
            "SKU Code: J0306-DR-M\n",
            "Design No.: J0306\n",
            "Stock: 5.0\n",
            "Category: DRESS\n",
            "Size: M\n",
            "Color: Red\n",
            "---\n"
          ]
        }
      ]
    },
    {
      "cell_type": "code",
      "source": [],
      "metadata": {
        "id": "5RV2_E3BAxIy"
      },
      "execution_count": null,
      "outputs": []
    }
  ]
}